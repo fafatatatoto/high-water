{
 "cells": [
  {
   "cell_type": "code",
   "execution_count": 4,
   "metadata": {},
   "outputs": [],
   "source": [
    "import scipy.stats as stats\n",
    "import pandas as pd\n",
    "import numpy as np\n",
    "import matplotlib.pyplot as plt\n",
    "import math"
   ]
  },
  {
   "cell_type": "code",
   "execution_count": 5,
   "metadata": {},
   "outputs": [
    {
     "name": "stdout",
     "output_type": "stream",
     "text": [
      "   Unnamed: 0  Year  6hr_max_rainfall\n",
      "0           0  2009              43.0\n",
      "1           1  2010             123.0\n",
      "2           2  2011              94.5\n",
      "3           3  2012             282.0\n",
      "4           4  2013             110.5\n"
     ]
    }
   ],
   "source": [
    "fn_ss_6hr='./Data_output/annual_6hr_mx_df_ss.csv'\n",
    "fn_ss_24hr='./Data_output/annual_24hr_mx_df_ss.csv'\n",
    "fn_ss_48hr='./Data_output/annual_48hr_mx_df_ss.csv'\n",
    "\n",
    "fn_gg_6hr='./Data_output/annual_6hr_mx_df_gg.csv'\n",
    "fn_gg_24hr='./Data_output/annual_24hr_mx_df_gg.csv'\n",
    "fn_gg_48hr='./Data_output/annual_48hr_mx_df_gg.csv'\n",
    "\n",
    "fn_tp_6hr='./Data_output/annual_6hr_mx_df_tp.csv'\n",
    "fn_tp_24hr='./Data_output/annual_24hr_mx_df_tp.csv'\n",
    "fn_tp_48hr='./Data_output/annual_48hr_mx_df_tp.csv'\n",
    "\n",
    "df_ss_6hr=pd.read_csv(fn_ss_6hr)\n",
    "df_ss_24hr=pd.read_csv(fn_ss_24hr)\n",
    "df_ss_48hr=pd.read_csv(fn_ss_48hr)\n",
    "\n",
    "df_gg_6hr=pd.read_csv(fn_gg_6hr)\n",
    "df_gg_24hr=pd.read_csv(fn_gg_24hr)\n",
    "df_gg_48hr=pd.read_csv(fn_gg_48hr)\n",
    "\n",
    "df_tp_6hr=pd.read_csv(fn_tp_6hr)\n",
    "df_tp_24hr=pd.read_csv(fn_tp_24hr)\n",
    "df_tp_48hr=pd.read_csv(fn_tp_48hr)\n",
    "\n",
    "print(df_ss_6hr.head())"
   ]
  },
  {
   "cell_type": "markdown",
   "metadata": {},
   "source": [
    "#### II. Apply Method of Moment (MoM) to perform the probability fitting for all 6, 24 and 48 hour annual maximum rainfall series with Two-parameter log-normal, Threeparameter log-normal, Extreme Value Type I, Pearson type III distribution.\n",
    "#### III. Use Chi-square test to examine the goodness of fitting. Please state your null hypothesis and use 95% confident interval to interpret your finding\n",
    "- Null Hypothesis (H0): The observed data follows the specified probability distribution (e.g., log-normal, Gumbel, Pearson Type III). \n",
    "- Alternate Hypothesis (H1): The observed data does not follow the specified probability distribution."
   ]
  },
  {
   "cell_type": "markdown",
   "metadata": {},
   "source": [
    "#### 三峽\n",
    "- 6hr"
   ]
  },
  {
   "cell_type": "code",
   "execution_count": 6,
   "metadata": {},
   "outputs": [
    {
     "name": "stdout",
     "output_type": "stream",
     "text": [
      "125.71428571428571 64.05547904437525 1.1818433404999484\n"
     ]
    }
   ],
   "source": [
    "years=[]\n",
    "annual_ss_6hr_mx=[]\n",
    "for i in range(len(df_ss_6hr)):\n",
    "    years.append(df_ss_6hr['Year'][i])\n",
    "    annual_ss_6hr_mx.append(df_ss_6hr['6hr_max_rainfall'][i])\n",
    "\n",
    "#刪除最後一年資料，因為其值太小\n",
    "annual_ss_6hr_mx=annual_ss_6hr_mx[:-1]\n",
    "\n",
    "mu_ss_6hr= np.mean(annual_ss_6hr_mx)\n",
    "std_ss_6hr = np.std(annual_ss_6hr_mx,ddof=1)\n",
    "skew_ss_6hr = stats.skew(annual_ss_6hr_mx)\n",
    "print(mu_ss_6hr,std_ss_6hr,skew_ss_6hr)"
   ]
  },
  {
   "cell_type": "code",
   "execution_count": 7,
   "metadata": {},
   "outputs": [
    {
     "name": "stdout",
     "output_type": "stream",
     "text": [
      "Sanxia 6hr\n",
      "2-parameter log normal：μ = 2.0522108571814486，σ = 0.20862815754619402\n",
      "3-parameter log normal：μ = 2.0522108571814486，σ = 0.20862815754619402，a=1.063072335591179\n",
      "Extreme Value Type I (Gumbel) : α = 6.24027737631256, u = 122.1123976126781\n",
      "Pearson Type III : λ = 37.851770665564445, β = 2.8637833950435163, ε = 17.315013409247\n"
     ]
    }
   ],
   "source": [
    "#Two-parameter log-normal\n",
    "mu_2pln_ss_6hr = np.mean(np.log10(annual_ss_6hr_mx))\n",
    "std_2pln_ss_6hr = np.std(np.log10(annual_ss_6hr_mx),ddof=1)\n",
    "\n",
    "#Three-parameter log-normal\n",
    "mu_3pln_ss_6hr = np.mean(np.log10(annual_ss_6hr_mx))\n",
    "std_3pln_ss_6hr = np.std(np.log10(annual_ss_6hr_mx),ddof=1)\n",
    "CV2 = np.sqrt(np.exp(std_3pln_ss_6hr**2)-1)\n",
    "a_3pln_ss_6hr = mu_3pln_ss_6hr -std_3pln_ss_6hr/CV2\n",
    "\n",
    "#Extreme Value Type I (Gumbel) Distribution\n",
    "alpha_gumbel_ss_6hr = (np.sqrt(6)/np.pi) * np.sqrt(std_ss_6hr)\n",
    "u_gumbel_ss_6hr = mu_ss_6hr - (0.5772 * alpha_gumbel_ss_6hr)\n",
    "\n",
    "# Pearson Type III Distribution\n",
    "beta_pearson_ss_6hr = (2/skew_ss_6hr)**2\n",
    "lambda_pearson_ss_6hr = std_ss_6hr/np.sqrt(beta_pearson_ss_6hr)\n",
    "epsilon_pearson_ss_6hr = mu_ss_6hr-std_ss_6hr*np.sqrt(beta_pearson_ss_6hr)\n",
    "\n",
    "print('Sanxia 6hr')\n",
    "print(f\"2-parameter log normal：μ = {mu_2pln_ss_6hr}，σ = {std_2pln_ss_6hr}\")\n",
    "print(f\"3-parameter log normal：μ = {mu_3pln_ss_6hr}，σ = {std_3pln_ss_6hr}，a={a_3pln_ss_6hr}\")\n",
    "print(f\"Extreme Value Type I (Gumbel) : α = {alpha_gumbel_ss_6hr}, u = {u_gumbel_ss_6hr}\")\n",
    "print(f\"Pearson Type III : λ = {lambda_pearson_ss_6hr}, β = {beta_pearson_ss_6hr}, ε = {epsilon_pearson_ss_6hr}\")"
   ]
  },
  {
   "cell_type": "code",
   "execution_count": 8,
   "metadata": {},
   "outputs": [
    {
     "name": "stdout",
     "output_type": "stream",
     "text": [
      "    降雨(mm)  次數\n",
      "0   40-140  11\n",
      "1  140-240   2\n",
      "2  240-340   1\n"
     ]
    }
   ],
   "source": [
    "#開始分組進行chi square test\n",
    "data = annual_ss_6hr_mx\n",
    "\n",
    "min_value = min(data)\n",
    "max_value = max(data)\n",
    "# 找到最接近最小值的10的倍數，作為第一個分組的起點\n",
    "start_value = int(np.floor(min_value / 10.0)) * 10\n",
    "group_counts = {}\n",
    "\n",
    "current_value = start_value\n",
    "while current_value <= max_value:\n",
    "    next_value = current_value + 100\n",
    "    group_label = f\"{current_value}-{next_value}\"\n",
    "    group_counts[group_label] = len([x for x in data if current_value <= x < next_value])\n",
    "    current_value = next_value\n",
    "\n",
    "df = pd.DataFrame(list(group_counts.items()), columns=[\"降雨(mm)\", \"次數\"])\n",
    "print(df)"
   ]
  },
  {
   "cell_type": "code",
   "execution_count": 9,
   "metadata": {},
   "outputs": [],
   "source": [
    "#Two-parameter log-normal\n",
    "\n",
    "#Three-parameter log-normal\n",
    "\n",
    "\n",
    "#Extreme Value Type I (Gumbel) Distribution\n",
    "\n",
    "\n",
    "# Pearson Type III Distribution\n",
    "\n"
   ]
  },
  {
   "cell_type": "markdown",
   "metadata": {},
   "source": [
    "- 24hr"
   ]
  },
  {
   "cell_type": "code",
   "execution_count": 10,
   "metadata": {},
   "outputs": [
    {
     "name": "stdout",
     "output_type": "stream",
     "text": [
      "183.39285714285714 97.0866343037988 2.14966738275951\n"
     ]
    }
   ],
   "source": [
    "annual_ss_24hr_mx=[]\n",
    "for i in range(len(df_ss_24hr)):\n",
    "    years.append(df_ss_24hr['Year'][i])\n",
    "    annual_ss_24hr_mx.append(df_ss_24hr['24hr_max_rainfall'][i])\n",
    "\n",
    "#刪除最後一年資料，因為其值太小\n",
    "annual_ss_24hr_mx=annual_ss_24hr_mx[:-1]\n",
    "\n",
    "mu_ss_24hr= np.mean(annual_ss_24hr_mx)\n",
    "std_ss_24hr = np.std(annual_ss_24hr_mx,ddof=1)\n",
    "skew_ss_24hr = stats.skew(annual_ss_24hr_mx)\n",
    "print(mu_ss_24hr,std_ss_24hr,skew_ss_24hr)"
   ]
  },
  {
   "cell_type": "code",
   "execution_count": 11,
   "metadata": {},
   "outputs": [
    {
     "name": "stdout",
     "output_type": "stream",
     "text": [
      "Sanxia 24hr\n",
      "2-parameter log normal: μ = 2.223745363393245, σ = 0.17867350052050873\n",
      "3-parameter log normal: μ = 2.223745363393245, σ = 0.17867350052050873, a = 1.2317157175085764\n",
      "Extreme Value Type I (Gumbel): α = 7.682551413499953, u = 178.95848846698496\n",
      "Pearson Type III: λ = 104.35198553238841, β = 0.8656004181312024, ε = 93.06573483320055\n"
     ]
    }
   ],
   "source": [
    "# Two-parameter log-normal \n",
    "mu_2pln_ss_24hr = np.mean(np.log10(annual_ss_24hr_mx))\n",
    "std_2pln_ss_24hr = np.std(np.log10(annual_ss_24hr_mx), ddof=1)\n",
    "\n",
    "# Three-parameter log-normal \n",
    "mu_3pln_ss_24hr = np.mean(np.log10(annual_ss_24hr_mx))\n",
    "std_3pln_ss_24hr = np.std(np.log10(annual_ss_24hr_mx), ddof=1)\n",
    "CV2_24hr = np.sqrt(np.exp(std_3pln_ss_24hr**2) - 1)\n",
    "a_3pln_ss_24hr = mu_3pln_ss_24hr - std_3pln_ss_24hr / CV2_24hr\n",
    "\n",
    "# Extreme Value Type I (Gumbel) Distribution \n",
    "alpha_gumbel_ss_24hr = (np.sqrt(6) / np.pi) * np.sqrt(std_ss_24hr)\n",
    "u_gumbel_ss_24hr = mu_ss_24hr - (0.5772 * alpha_gumbel_ss_24hr)\n",
    "\n",
    "# Pearson Type III Distribution \n",
    "beta_pearson_ss_24hr = (2 / skew_ss_24hr)**2\n",
    "lambda_pearson_ss_24hr = std_ss_24hr / np.sqrt(beta_pearson_ss_24hr)\n",
    "epsilon_pearson_ss_24hr = mu_ss_24hr - std_ss_24hr * np.sqrt(beta_pearson_ss_24hr)\n",
    "\n",
    "print('Sanxia 24hr')\n",
    "print(f\"2-parameter log normal: μ = {mu_2pln_ss_24hr}, σ = {std_2pln_ss_24hr}\")\n",
    "print(f\"3-parameter log normal: μ = {mu_3pln_ss_24hr}, σ = {std_3pln_ss_24hr}, a = {a_3pln_ss_24hr}\")\n",
    "print(f\"Extreme Value Type I (Gumbel): α = {alpha_gumbel_ss_24hr}, u = {u_gumbel_ss_24hr}\")\n",
    "print(f\"Pearson Type III: λ = {lambda_pearson_ss_24hr}, β = {beta_pearson_ss_24hr}, ε = {epsilon_pearson_ss_24hr}\")\n"
   ]
  },
  {
   "cell_type": "code",
   "execution_count": 12,
   "metadata": {},
   "outputs": [
    {
     "name": "stdout",
     "output_type": "stream",
     "text": [
      "    降雨(mm)  次數\n",
      "0   90-190   9\n",
      "1  190-290   4\n",
      "2  290-390   0\n",
      "3  390-490   1\n"
     ]
    }
   ],
   "source": [
    "#開始分組進行chi square test\n",
    "data = annual_ss_24hr_mx\n",
    "\n",
    "min_value = min(data)\n",
    "max_value = max(data)\n",
    "# 找到最接近最小值的10的倍數，作為第一個分組的起點\n",
    "start_value = int(np.floor(min_value / 10.0)) * 10\n",
    "group_counts = {}\n",
    "\n",
    "current_value = start_value\n",
    "while current_value <= max_value:\n",
    "    next_value = current_value + 100\n",
    "    group_label = f\"{current_value}-{next_value}\"\n",
    "    group_counts[group_label] = len([x for x in data if current_value <= x < next_value])\n",
    "    current_value = next_value\n",
    "\n",
    "df = pd.DataFrame(list(group_counts.items()), columns=[\"降雨(mm)\", \"次數\"])\n",
    "print(df)"
   ]
  },
  {
   "cell_type": "markdown",
   "metadata": {},
   "source": [
    "- 48hr"
   ]
  },
  {
   "cell_type": "code",
   "execution_count": 13,
   "metadata": {},
   "outputs": [
    {
     "name": "stdout",
     "output_type": "stream",
     "text": [
      "228.85714285714286 89.22431295324175 1.6044081790274645\n"
     ]
    }
   ],
   "source": [
    "annual_ss_48hr_mx=[]\n",
    "for i in range(len(df_ss_48hr)):\n",
    "    years.append(df_ss_48hr['Year'][i])\n",
    "    annual_ss_48hr_mx.append(df_ss_48hr['48hr_max_rainfall'][i])\n",
    "\n",
    "#刪除最後一年資料，因為其值太小\n",
    "annual_ss_48hr_mx=annual_ss_48hr_mx[:-1]\n",
    "\n",
    "mu_ss_48hr= np.mean(annual_ss_48hr_mx)\n",
    "std_ss_48hr = np.std(annual_ss_48hr_mx,ddof=1)\n",
    "skew_ss_48hr = stats.skew(annual_ss_48hr_mx)\n",
    "print(mu_ss_48hr,std_ss_48hr,skew_ss_48hr)"
   ]
  },
  {
   "cell_type": "code",
   "execution_count": 14,
   "metadata": {},
   "outputs": [
    {
     "name": "stdout",
     "output_type": "stream",
     "text": [
      "Sanxia 48hr\n",
      "2-parameter log normal: μ = 2.3345408952623004, σ = 0.14681995280148435\n",
      "3-parameter log normal: μ = 2.3345408952623004, σ = 0.14681995280148435, a = 1.3399250535700566\n",
      "Extreme Value Type I (Gumbel): α = 7.364908552628535, u = 224.60611764056569\n",
      "Pearson Type III: λ = 71.5761087351436, β = 1.5539257262111832, ε = 117.63318611151423\n"
     ]
    }
   ],
   "source": [
    "# Two-parameter log-normal \n",
    "mu_2pln_ss_48hr = np.mean(np.log10(annual_ss_48hr_mx))\n",
    "std_2pln_ss_48hr = np.std(np.log10(annual_ss_48hr_mx), ddof=1)\n",
    "\n",
    "# Three-parameter log-normal \n",
    "mu_3pln_ss_48hr = np.mean(np.log10(annual_ss_48hr_mx))\n",
    "std_3pln_ss_48hr = np.std(np.log10(annual_ss_48hr_mx), ddof=1)\n",
    "CV2_48hr = np.sqrt(np.exp(std_3pln_ss_48hr**2) - 1)\n",
    "a_3pln_ss_48hr = mu_3pln_ss_48hr - std_3pln_ss_48hr / CV2_48hr\n",
    "\n",
    "# Extreme Value Type I (Gumbel) Distribution \n",
    "alpha_gumbel_ss_48hr = (np.sqrt(6) / np.pi) * np.sqrt(std_ss_48hr)\n",
    "u_gumbel_ss_48hr = mu_ss_48hr - (0.5772 * alpha_gumbel_ss_48hr)\n",
    "\n",
    "# Pearson Type III Distribution \n",
    "beta_pearson_ss_48hr = (2 / skew_ss_48hr)**2\n",
    "lambda_pearson_ss_48hr = std_ss_48hr / np.sqrt(beta_pearson_ss_48hr)\n",
    "epsilon_pearson_ss_48hr = mu_ss_48hr - std_ss_48hr * np.sqrt(beta_pearson_ss_48hr)\n",
    "\n",
    "print('Sanxia 48hr')\n",
    "print(f\"2-parameter log normal: μ = {mu_2pln_ss_48hr}, σ = {std_2pln_ss_48hr}\")\n",
    "print(f\"3-parameter log normal: μ = {mu_3pln_ss_48hr}, σ = {std_3pln_ss_48hr}, a = {a_3pln_ss_48hr}\")\n",
    "print(f\"Extreme Value Type I (Gumbel): α = {alpha_gumbel_ss_48hr}, u = {u_gumbel_ss_48hr}\")\n",
    "print(f\"Pearson Type III: λ = {lambda_pearson_ss_48hr}, β = {beta_pearson_ss_48hr}, ε = {epsilon_pearson_ss_48hr}\")\n"
   ]
  },
  {
   "cell_type": "code",
   "execution_count": 15,
   "metadata": {},
   "outputs": [
    {
     "name": "stdout",
     "output_type": "stream",
     "text": [
      "    降雨(mm)  次數\n",
      "0  130-230   9\n",
      "1  230-330   4\n",
      "2  330-430   0\n",
      "3  430-530   1\n"
     ]
    }
   ],
   "source": [
    "#開始分組進行chi square test\n",
    "data = annual_ss_48hr_mx\n",
    "\n",
    "min_value = min(data)\n",
    "max_value = max(data)\n",
    "# 找到最接近最小值的10的倍數，作為第一個分組的起點\n",
    "start_value = int(np.floor(min_value / 10.0)) * 10\n",
    "group_counts = {}\n",
    "\n",
    "current_value = start_value\n",
    "while current_value <= max_value:\n",
    "    next_value = current_value + 100\n",
    "    group_label = f\"{current_value}-{next_value}\"\n",
    "    group_counts[group_label] = len([x for x in data if current_value <= x < next_value])\n",
    "    current_value = next_value\n",
    "\n",
    "df = pd.DataFrame(list(group_counts.items()), columns=[\"降雨(mm)\", \"次數\"])\n",
    "print(df)"
   ]
  },
  {
   "cell_type": "markdown",
   "metadata": {},
   "source": [
    "#### 公館\n",
    "- 6hr"
   ]
  },
  {
   "cell_type": "code",
   "execution_count": 16,
   "metadata": {},
   "outputs": [
    {
     "name": "stdout",
     "output_type": "stream",
     "text": [
      "135.15151515151516 59.52553087337883 1.5104733742125662\n"
     ]
    }
   ],
   "source": [
    "years=[]\n",
    "annual_gg_6hr_mx=[]\n",
    "for i in range(len(df_gg_6hr)):\n",
    "    years.append(df_gg_6hr['Year'][i])\n",
    "    annual_gg_6hr_mx.append(df_gg_6hr['6hr_max_rainfall'][i])\n",
    "mu_gg_6hr= np.mean(annual_gg_6hr_mx)\n",
    "std_gg_6hr = np.std(annual_gg_6hr_mx,ddof=1)\n",
    "skew_gg_6hr = stats.skew(annual_gg_6hr_mx)\n",
    "print(mu_gg_6hr,std_gg_6hr,skew_gg_6hr)"
   ]
  },
  {
   "cell_type": "code",
   "execution_count": 17,
   "metadata": {},
   "outputs": [
    {
     "name": "stdout",
     "output_type": "stream",
     "text": [
      "Gongguan 6hr\n",
      "2-parameter log normal: μ = 2.09675911956297, σ = 0.16903955421115624\n",
      "3-parameter log normal: μ = 2.09675911956297, σ = 0.16903955421115624, a = 1.1038941464408536\n",
      "Extreme Value Type I (Gumbel): α = 6.015578398639284, u = 131.67932329982057\n",
      "Pearson Type III: λ = 44.955864735053396, β = 1.7532096118558218, ε = 56.33446098872936\n"
     ]
    }
   ],
   "source": [
    "# Two-parameter log-normal \n",
    "mu_2pln_gg_6hr = np.mean(np.log10(annual_gg_6hr_mx))\n",
    "std_2pln_gg_6hr = np.std(np.log10(annual_gg_6hr_mx), ddof=1)\n",
    "\n",
    "# Three-parameter log-normal \n",
    "mu_3pln_gg_6hr = np.mean(np.log10(annual_gg_6hr_mx))\n",
    "std_3pln_gg_6hr = np.std(np.log10(annual_gg_6hr_mx), ddof=1)\n",
    "CV2_6hr = np.sqrt(np.exp(std_3pln_gg_6hr**2) - 1)\n",
    "a_3pln_gg_6hr = mu_3pln_gg_6hr - std_3pln_gg_6hr / CV2_6hr\n",
    "\n",
    "# Extreme Value Type I (Gumbel) Distribution \n",
    "alpha_gumbel_gg_6hr = (np.sqrt(6) / np.pi) * np.sqrt(std_gg_6hr)\n",
    "u_gumbel_gg_6hr = mu_gg_6hr - (0.5772 * alpha_gumbel_gg_6hr)\n",
    "\n",
    "# Pearson Type III Distribution \n",
    "beta_pearson_gg_6hr = (2 / skew_gg_6hr)**2\n",
    "lambda_pearson_gg_6hr = std_gg_6hr / np.sqrt(beta_pearson_gg_6hr)\n",
    "epsilon_pearson_gg_6hr = mu_gg_6hr - std_gg_6hr * np.sqrt(beta_pearson_gg_6hr)\n",
    "\n",
    "print('Gongguan 6hr')\n",
    "print(f\"2-parameter log normal: μ = {mu_2pln_gg_6hr}, σ = {std_2pln_gg_6hr}\")\n",
    "print(f\"3-parameter log normal: μ = {mu_3pln_gg_6hr}, σ = {std_3pln_gg_6hr}, a = {a_3pln_gg_6hr}\")\n",
    "print(f\"Extreme Value Type I (Gumbel): α = {alpha_gumbel_gg_6hr}, u = {u_gumbel_gg_6hr}\")\n",
    "print(f\"Pearson Type III: λ = {lambda_pearson_gg_6hr}, β = {beta_pearson_gg_6hr}, ε = {epsilon_pearson_gg_6hr}\")"
   ]
  },
  {
   "cell_type": "code",
   "execution_count": 34,
   "metadata": {},
   "outputs": [
    {
     "name": "stdout",
     "output_type": "stream",
     "text": [
      "[91.5, 74.0, 81.0, 149.5, 75.0, 100.5, 95.0, 100.0, 63.0, 126.5, 129.5, 163.0, 118.0, 198.0, 333.0, 87.5, 102.5, 223.5, 108.0, 85.5, 126.5, 145.0, 131.0, 103.0, 81.0, 264.5, 131.5, 215.5, 204.0, 120.5, 134.5, 163.5, 135.0]\n",
      "    降雨(mm)  次數\n",
      "0   60-160  25\n",
      "1  160-260   6\n",
      "2  260-360   2\n"
     ]
    }
   ],
   "source": [
    "#開始分組進行chi square test\n",
    "data = annual_gg_6hr_mx\n",
    "print(data)\n",
    "min_value = min(data)\n",
    "max_value = max(data)\n",
    "# 找到最接近最小值的10的倍數，作為第一個分組的起點\n",
    "start_value = int(np.floor(min_value / 10.0)) * 10\n",
    "group_counts = {}\n",
    "\n",
    "current_value = start_value\n",
    "while current_value <= max_value:\n",
    "    next_value = current_value + 100\n",
    "    group_label = f\"{current_value}-{next_value}\"\n",
    "    group_counts[group_label] = len([x for x in data if current_value <= x < next_value])\n",
    "    current_value = next_value\n",
    "\n",
    "df = pd.DataFrame(list(group_counts.items()), columns=[\"降雨(mm)\", \"次數\"])\n",
    "print(df)"
   ]
  },
  {
   "cell_type": "markdown",
   "metadata": {},
   "source": [
    "- 24hr"
   ]
  },
  {
   "cell_type": "code",
   "execution_count": 19,
   "metadata": {},
   "outputs": [
    {
     "name": "stdout",
     "output_type": "stream",
     "text": [
      "222.92424242424244 119.88888874261615 1.391109212828961\n"
     ]
    }
   ],
   "source": [
    "annual_gg_24hr_mx=[]\n",
    "for i in range(len(df_gg_24hr)):\n",
    "    years.append(df_gg_24hr['Year'][i])\n",
    "    annual_gg_24hr_mx.append(df_gg_24hr['24hr_max_rainfall'][i])\n",
    "mu_gg_24hr= np.mean(annual_gg_24hr_mx)\n",
    "std_gg_24hr = np.std(annual_gg_24hr_mx,ddof=1)\n",
    "skew_gg_24hr = stats.skew(annual_gg_24hr_mx)\n",
    "print(mu_gg_24hr,std_gg_24hr,skew_gg_24hr)"
   ]
  },
  {
   "cell_type": "code",
   "execution_count": 20,
   "metadata": {},
   "outputs": [
    {
     "name": "stdout",
     "output_type": "stream",
     "text": [
      "Gongguan 24hr\n",
      "2-parameter log normal: μ = 2.2954377026565393, σ = 0.2126519845257171\n",
      "3-parameter log normal: μ = 2.2954377026565393, σ = 0.2126519845257171, a = 1.3067213775687743\n",
      "Extreme Value Type I (Gumbel): α = 8.537195363689323, u = 217.99657326032096\n",
      "Pearson Type III: λ = 83.38926882283981, β = 2.0669860124729094, ε = 50.55979017708927\n"
     ]
    }
   ],
   "source": [
    "# Two-parameter log-normal \n",
    "mu_2pln_gg_24hr = np.mean(np.log10(annual_gg_24hr_mx))\n",
    "std_2pln_gg_24hr = np.std(np.log10(annual_gg_24hr_mx), ddof=1)\n",
    "\n",
    "# Three-parameter log-normal \n",
    "mu_3pln_gg_24hr = np.mean(np.log10(annual_gg_24hr_mx))\n",
    "std_3pln_gg_24hr = np.std(np.log10(annual_gg_24hr_mx), ddof=1)\n",
    "CV2_24hr = np.sqrt(np.exp(std_3pln_gg_24hr**2) - 1)\n",
    "a_3pln_gg_24hr = mu_3pln_gg_24hr - std_3pln_gg_24hr / CV2_24hr\n",
    "\n",
    "# Extreme Value Type I (Gumbel) Distribution \n",
    "alpha_gumbel_gg_24hr = (np.sqrt(6) / np.pi) * np.sqrt(std_gg_24hr)\n",
    "u_gumbel_gg_24hr = mu_gg_24hr - (0.5772 * alpha_gumbel_gg_24hr)\n",
    "\n",
    "# Pearson Type III Distribution \n",
    "beta_pearson_gg_24hr = (2 / skew_gg_24hr)**2\n",
    "lambda_pearson_gg_24hr = std_gg_24hr / np.sqrt(beta_pearson_gg_24hr)\n",
    "epsilon_pearson_gg_24hr = mu_gg_24hr - std_gg_24hr * np.sqrt(beta_pearson_gg_24hr)\n",
    "\n",
    "print('Gongguan 24hr')\n",
    "print(f\"2-parameter log normal: μ = {mu_2pln_gg_24hr}, σ = {std_2pln_gg_24hr}\")\n",
    "print(f\"3-parameter log normal: μ = {mu_3pln_gg_24hr}, σ = {std_3pln_gg_24hr}, a = {a_3pln_gg_24hr}\")\n",
    "print(f\"Extreme Value Type I (Gumbel): α = {alpha_gumbel_gg_24hr}, u = {u_gumbel_gg_24hr}\")\n",
    "print(f\"Pearson Type III: λ = {lambda_pearson_gg_24hr}, β = {beta_pearson_gg_24hr}, ε = {epsilon_pearson_gg_24hr}\")\n"
   ]
  },
  {
   "cell_type": "code",
   "execution_count": 21,
   "metadata": {},
   "outputs": [
    {
     "name": "stdout",
     "output_type": "stream",
     "text": [
      "    降雨(mm)  次數\n",
      "0   90-190  16\n",
      "1  190-290   9\n",
      "2  290-390   6\n",
      "3  390-490   1\n",
      "4  490-590   0\n",
      "5  590-690   1\n"
     ]
    }
   ],
   "source": [
    "#開始分組進行chi square test\n",
    "data = annual_gg_24hr_mx\n",
    "\n",
    "min_value = min(data)\n",
    "max_value = max(data)\n",
    "# 找到最接近最小值的10的倍數，作為第一個分組的起點\n",
    "start_value = int(np.floor(min_value / 10.0)) * 10\n",
    "group_counts = {}\n",
    "\n",
    "current_value = start_value\n",
    "while current_value <= max_value:\n",
    "    next_value = current_value + 100\n",
    "    group_label = f\"{current_value}-{next_value}\"\n",
    "    group_counts[group_label] = len([x for x in data if current_value <= x < next_value])\n",
    "    current_value = next_value\n",
    "\n",
    "df = pd.DataFrame(list(group_counts.items()), columns=[\"降雨(mm)\", \"次數\"])\n",
    "print(df)"
   ]
  },
  {
   "cell_type": "markdown",
   "metadata": {},
   "source": [
    "- 48hr"
   ]
  },
  {
   "cell_type": "code",
   "execution_count": 22,
   "metadata": {},
   "outputs": [
    {
     "name": "stdout",
     "output_type": "stream",
     "text": [
      "283.1515151515151 155.86645349708056 2.0126760581776955\n"
     ]
    }
   ],
   "source": [
    "annual_gg_48hr_mx=[]\n",
    "for i in range(len(df_gg_48hr)):\n",
    "    years.append(df_gg_48hr['Year'][i])\n",
    "    annual_gg_48hr_mx.append(df_gg_48hr['48hr_max_rainfall'][i])\n",
    "mu_gg_48hr= np.mean(annual_gg_48hr_mx)\n",
    "std_gg_48hr = np.std(annual_gg_48hr_mx,ddof=1)\n",
    "skew_gg_48hr = stats.skew(annual_gg_48hr_mx)\n",
    "print(mu_gg_48hr,std_gg_48hr,skew_gg_48hr)"
   ]
  },
  {
   "cell_type": "code",
   "execution_count": 23,
   "metadata": {},
   "outputs": [
    {
     "name": "stdout",
     "output_type": "stream",
     "text": [
      "Gongguan 48hr\n",
      "2-parameter log normal: μ = 2.402326417930021, σ = 0.2029692898933427\n",
      "3-parameter log normal: μ = 2.402326417930021, σ = 0.2029692898933427, a = 1.412607690611534\n",
      "Extreme Value Type I (Gumbel): α = 9.734240666366617, u = 277.53291143888833\n",
      "Pearson Type III: λ = 156.85433961332058, β = 0.9874434432579258, ε = 128.2667259537898\n"
     ]
    }
   ],
   "source": [
    "# Two-parameter log-normal \n",
    "mu_2pln_gg_48hr = np.mean(np.log10(annual_gg_48hr_mx))\n",
    "std_2pln_gg_48hr = np.std(np.log10(annual_gg_48hr_mx), ddof=1)\n",
    "\n",
    "# Three-parameter log-normal \n",
    "mu_3pln_gg_48hr = np.mean(np.log10(annual_gg_48hr_mx))\n",
    "std_3pln_gg_48hr = np.std(np.log10(annual_gg_48hr_mx), ddof=1)\n",
    "CV2_48hr = np.sqrt(np.exp(std_3pln_gg_48hr**2) - 1)\n",
    "a_3pln_gg_48hr = mu_3pln_gg_48hr - std_3pln_gg_48hr / CV2_48hr\n",
    "\n",
    "# Extreme Value Type I (Gumbel) Distribution \n",
    "alpha_gumbel_gg_48hr = (np.sqrt(6) / np.pi) * np.sqrt(std_gg_48hr)\n",
    "u_gumbel_gg_48hr = mu_gg_48hr - (0.5772 * alpha_gumbel_gg_48hr)\n",
    "\n",
    "# Pearson Type III Distribution \n",
    "beta_pearson_gg_48hr = (2 / skew_gg_48hr)**2\n",
    "lambda_pearson_gg_48hr = std_gg_48hr / np.sqrt(beta_pearson_gg_48hr)\n",
    "epsilon_pearson_gg_48hr = mu_gg_48hr - std_gg_48hr * np.sqrt(beta_pearson_gg_48hr)\n",
    "\n",
    "print('Gongguan 48hr')\n",
    "print(f\"2-parameter log normal: μ = {mu_2pln_gg_48hr}, σ = {std_2pln_gg_48hr}\")\n",
    "print(f\"3-parameter log normal: μ = {mu_3pln_gg_48hr}, σ = {std_3pln_gg_48hr}, a = {a_3pln_gg_48hr}\")\n",
    "print(f\"Extreme Value Type I (Gumbel): α = {alpha_gumbel_gg_48hr}, u = {u_gumbel_gg_48hr}\")\n",
    "print(f\"Pearson Type III: λ = {lambda_pearson_gg_48hr}, β = {beta_pearson_gg_48hr}, ε = {epsilon_pearson_gg_48hr}\")\n",
    "\n"
   ]
  },
  {
   "cell_type": "code",
   "execution_count": 24,
   "metadata": {},
   "outputs": [
    {
     "name": "stdout",
     "output_type": "stream",
     "text": [
      "    降雨(mm)  次數\n",
      "0  110-210  15\n",
      "1  210-310   7\n",
      "2  310-410   5\n",
      "3  410-510   4\n",
      "4  510-610   1\n",
      "5  610-710   0\n",
      "6  710-810   0\n",
      "7  810-910   1\n"
     ]
    }
   ],
   "source": [
    "#開始分組進行chi square test\n",
    "data = annual_gg_48hr_mx\n",
    "\n",
    "min_value = min(data)\n",
    "max_value = max(data)\n",
    "# 找到最接近最小值的10的倍數，作為第一個分組的起點\n",
    "start_value = int(np.floor(min_value / 10.0)) * 10\n",
    "group_counts = {}\n",
    "\n",
    "current_value = start_value\n",
    "while current_value <= max_value:\n",
    "    next_value = current_value + 100\n",
    "    group_label = f\"{current_value}-{next_value}\"\n",
    "    group_counts[group_label] = len([x for x in data if current_value <= x < next_value])\n",
    "    current_value = next_value\n",
    "\n",
    "df = pd.DataFrame(list(group_counts.items()), columns=[\"降雨(mm)\", \"次數\"])\n",
    "print(df)"
   ]
  },
  {
   "cell_type": "markdown",
   "metadata": {},
   "source": [
    "#### 臺北\n",
    "- 6hr"
   ]
  },
  {
   "cell_type": "code",
   "execution_count": 25,
   "metadata": {},
   "outputs": [
    {
     "name": "stdout",
     "output_type": "stream",
     "text": [
      "134.48529411764707 59.70781448451228 0.9533290049000714\n"
     ]
    }
   ],
   "source": [
    "years=[]\n",
    "annual_tp_6hr_mx=[]\n",
    "for i in range(len(df_tp_6hr)):\n",
    "    years.append(df_tp_6hr['Year'][i])\n",
    "    annual_tp_6hr_mx.append(df_tp_6hr['6hr_max_rainfall'][i])\n",
    "\n",
    "#刪除最後一年資料，因為其值太小\n",
    "annual_tp_6hr_mx=annual_tp_6hr_mx[:-1]\n",
    "\n",
    "mu_tp_6hr= np.mean(annual_tp_6hr_mx)\n",
    "std_tp_6hr = np.std(annual_tp_6hr_mx,ddof=1)\n",
    "skew_tp_6hr = stats.skew(annual_tp_6hr_mx)\n",
    "print(mu_tp_6hr,std_tp_6hr,skew_tp_6hr)"
   ]
  },
  {
   "cell_type": "code",
   "execution_count": 26,
   "metadata": {},
   "outputs": [
    {
     "name": "stdout",
     "output_type": "stream",
     "text": [
      "Taipei 6hr\n",
      "2-parameter log normal: μ = 2.082217723981931, σ = 0.22386585745667098\n",
      "3-parameter log normal: μ = 2.082217723981931, σ = 0.22386585745667098, a = 1.0947202147988784\n",
      "Extreme Value Type I (Gumbel): α = 6.024782039012483, u = 131.00778992472905\n",
      "Pearson Type III: λ = 28.460595683639077, β = 4.401233178257901, ε = 9.223576121831158\n"
     ]
    }
   ],
   "source": [
    "# Two-parameter log-normal \n",
    "mu_2pln_tp_6hr = np.mean(np.log10(annual_tp_6hr_mx))\n",
    "std_2pln_tp_6hr = np.std(np.log10(annual_tp_6hr_mx), ddof=1)\n",
    "\n",
    "# Three-parameter log-normal \n",
    "mu_3pln_tp_6hr = np.mean(np.log10(annual_tp_6hr_mx))\n",
    "std_3pln_tp_6hr = np.std(np.log10(annual_tp_6hr_mx), ddof=1)\n",
    "CV2_6hr = np.sqrt(np.exp(std_3pln_tp_6hr**2) - 1)\n",
    "a_3pln_tp_6hr = mu_3pln_tp_6hr - std_3pln_tp_6hr / CV2_6hr\n",
    "\n",
    "# Extreme Value Type I (Gumbel) Distribution \n",
    "alpha_gumbel_tp_6hr = (np.sqrt(6) / np.pi) * np.sqrt(std_tp_6hr)\n",
    "u_gumbel_tp_6hr = mu_tp_6hr - (0.5772 * alpha_gumbel_tp_6hr)\n",
    "\n",
    "# Pearson Type III Distribution \n",
    "beta_pearson_tp_6hr = (2 / skew_tp_6hr)**2\n",
    "lambda_pearson_tp_6hr = std_tp_6hr / np.sqrt(beta_pearson_tp_6hr)\n",
    "epsilon_pearson_tp_6hr = mu_tp_6hr - std_tp_6hr * np.sqrt(beta_pearson_tp_6hr)\n",
    "\n",
    "print('Taipei 6hr')\n",
    "print(f\"2-parameter log normal: μ = {mu_2pln_tp_6hr}, σ = {std_2pln_tp_6hr}\")\n",
    "print(f\"3-parameter log normal: μ = {mu_3pln_tp_6hr}, σ = {std_3pln_tp_6hr}, a = {a_3pln_tp_6hr}\")\n",
    "print(f\"Extreme Value Type I (Gumbel): α = {alpha_gumbel_tp_6hr}, u = {u_gumbel_tp_6hr}\")\n",
    "print(f\"Pearson Type III: λ = {lambda_pearson_tp_6hr}, β = {beta_pearson_tp_6hr}, ε = {epsilon_pearson_tp_6hr}\")\n"
   ]
  },
  {
   "cell_type": "code",
   "execution_count": 27,
   "metadata": {},
   "outputs": [
    {
     "name": "stdout",
     "output_type": "stream",
     "text": [
      "    降雨(mm)  次數\n",
      "0   10-110  12\n",
      "1  110-210  17\n",
      "2  210-310   4\n",
      "3  310-410   1\n"
     ]
    }
   ],
   "source": [
    "#開始分組進行chi square test\n",
    "data = annual_tp_6hr_mx\n",
    "\n",
    "min_value = min(data)\n",
    "max_value = max(data)\n",
    "# 找到最接近最小值的10的倍數，作為第一個分組的起點\n",
    "start_value = int(np.floor(min_value / 10.0)) * 10\n",
    "group_counts = {}\n",
    "\n",
    "current_value = start_value\n",
    "while current_value <= max_value:\n",
    "    next_value = current_value + 100\n",
    "    group_label = f\"{current_value}-{next_value}\"\n",
    "    group_counts[group_label] = len([x for x in data if current_value <= x < next_value])\n",
    "    current_value = next_value\n",
    "\n",
    "df = pd.DataFrame(list(group_counts.items()), columns=[\"降雨(mm)\", \"次數\"])\n",
    "print(df)"
   ]
  },
  {
   "cell_type": "markdown",
   "metadata": {},
   "source": [
    "- 24hr"
   ]
  },
  {
   "cell_type": "code",
   "execution_count": 28,
   "metadata": {},
   "outputs": [
    {
     "name": "stdout",
     "output_type": "stream",
     "text": [
      "215.00588235294117 117.31875238562279 1.381527569700322\n"
     ]
    }
   ],
   "source": [
    "years=[]\n",
    "annual_tp_24hr_mx=[]\n",
    "for i in range(len(df_tp_24hr)):\n",
    "    years.append(df_tp_24hr['Year'][i])\n",
    "    annual_tp_24hr_mx.append(df_tp_24hr['24hr_max_rainfall'][i])\n",
    "    \n",
    "#刪除最後一年資料，因為其值太小\n",
    "annual_tp_24hr_mx=annual_tp_24hr_mx[:-1]\n",
    "\n",
    "mu_tp_24hr= np.mean(annual_tp_24hr_mx)\n",
    "std_tp_24hr = np.std(annual_tp_24hr_mx,ddof=1)\n",
    "skew_tp_24hr = stats.skew(annual_tp_24hr_mx)\n",
    "print(mu_tp_24hr,std_tp_24hr,skew_tp_24hr)\n"
   ]
  },
  {
   "cell_type": "code",
   "execution_count": 29,
   "metadata": {},
   "outputs": [
    {
     "name": "stdout",
     "output_type": "stream",
     "text": [
      "Taipei 24hr\n",
      "2-parameter log normal: μ = 2.2744486024715567, σ = 0.23242277963069255\n",
      "3-parameter log normal: μ = 2.2744486024715567, σ = 0.23242277963069255, a = 1.2879228820270725\n",
      "Extreme Value Type I (Gumbel): α = 8.445190887772865, u = 210.13131817251866\n",
      "Pearson Type III: λ = 81.03954543179165, β = 2.0957567766512626, ε = 45.16670583752594\n"
     ]
    }
   ],
   "source": [
    "# Two-parameter log-normal \n",
    "mu_2pln_tp_24hr = np.mean(np.log10(annual_tp_24hr_mx))\n",
    "std_2pln_tp_24hr = np.std(np.log10(annual_tp_24hr_mx), ddof=1)\n",
    "\n",
    "# Three-parameter log-normal \n",
    "mu_3pln_tp_24hr = np.mean(np.log10(annual_tp_24hr_mx))\n",
    "std_3pln_tp_24hr = np.std(np.log10(annual_tp_24hr_mx), ddof=1)\n",
    "CV2_24hr = np.sqrt(np.exp(std_3pln_tp_24hr**2) - 1)\n",
    "a_3pln_tp_24hr = mu_3pln_tp_24hr - std_3pln_tp_24hr / CV2_24hr\n",
    "\n",
    "# Extreme Value Type I (Gumbel) Distribution \n",
    "alpha_gumbel_tp_24hr = (np.sqrt(6) / np.pi) * np.sqrt(std_tp_24hr)\n",
    "u_gumbel_tp_24hr = mu_tp_24hr - (0.5772 * alpha_gumbel_tp_24hr)\n",
    "\n",
    "# Pearson Type III Distribution \n",
    "beta_pearson_tp_24hr = (2 / skew_tp_24hr)**2\n",
    "lambda_pearson_tp_24hr = std_tp_24hr / np.sqrt(beta_pearson_tp_24hr)\n",
    "epsilon_pearson_tp_24hr = mu_tp_24hr - std_tp_24hr * np.sqrt(beta_pearson_tp_24hr)\n",
    "\n",
    "print('Taipei 24hr')\n",
    "print(f\"2-parameter log normal: μ = {mu_2pln_tp_24hr}, σ = {std_2pln_tp_24hr}\")\n",
    "print(f\"3-parameter log normal: μ = {mu_3pln_tp_24hr}, σ = {std_3pln_tp_24hr}, a = {a_3pln_tp_24hr}\")\n",
    "print(f\"Extreme Value Type I (Gumbel): α = {alpha_gumbel_tp_24hr}, u = {u_gumbel_tp_24hr}\")\n",
    "print(f\"Pearson Type III: λ = {lambda_pearson_tp_24hr}, β = {beta_pearson_tp_24hr}, ε = {epsilon_pearson_tp_24hr}\")\n"
   ]
  },
  {
   "cell_type": "code",
   "execution_count": 30,
   "metadata": {},
   "outputs": [
    {
     "name": "stdout",
     "output_type": "stream",
     "text": [
      "    降雨(mm)  次數\n",
      "0   30-130   7\n",
      "1  130-230  14\n",
      "2  230-330   8\n",
      "3  330-430   2\n",
      "4  430-530   2\n",
      "5  530-630   1\n"
     ]
    }
   ],
   "source": [
    "#開始分組進行chi square test\n",
    "data = annual_tp_24hr_mx\n",
    "\n",
    "min_value = min(data)\n",
    "max_value = max(data)\n",
    "# 找到最接近最小值的10的倍數，作為第一個分組的起點\n",
    "start_value = int(np.floor(min_value / 10.0)) * 10\n",
    "group_counts = {}\n",
    "\n",
    "current_value = start_value\n",
    "while current_value <= max_value:\n",
    "    next_value = current_value + 100\n",
    "    group_label = f\"{current_value}-{next_value}\"\n",
    "    group_counts[group_label] = len([x for x in data if current_value <= x < next_value])\n",
    "    current_value = next_value\n",
    "\n",
    "df = pd.DataFrame(list(group_counts.items()), columns=[\"降雨(mm)\", \"次數\"])\n",
    "print(df)"
   ]
  },
  {
   "cell_type": "markdown",
   "metadata": {},
   "source": [
    "- 48hr"
   ]
  },
  {
   "cell_type": "code",
   "execution_count": 31,
   "metadata": {},
   "outputs": [
    {
     "name": "stdout",
     "output_type": "stream",
     "text": [
      "264.9235294117648 147.13160890400448 1.4681602452705995\n"
     ]
    }
   ],
   "source": [
    "years=[]\n",
    "annual_tp_48hr_mx=[]\n",
    "for i in range(len(df_tp_48hr)):\n",
    "    years.append(df_tp_48hr['Year'][i])\n",
    "    annual_tp_48hr_mx.append(df_tp_48hr['48hr_max_rainfall'][i])\n",
    "\n",
    "#刪除最後一年資料，因為其值太小\n",
    "annual_tp_48hr_mx=annual_tp_48hr_mx[:-1]\n",
    "\n",
    "mu_tp_48hr= np.mean(annual_tp_48hr_mx)\n",
    "std_tp_48hr = np.std(annual_tp_48hr_mx,ddof=1)\n",
    "skew_tp_48hr = stats.skew(annual_tp_48hr_mx)\n",
    "print(mu_tp_48hr,std_tp_48hr,skew_tp_48hr)"
   ]
  },
  {
   "cell_type": "code",
   "execution_count": 32,
   "metadata": {},
   "outputs": [
    {
     "name": "stdout",
     "output_type": "stream",
     "text": [
      "Taipei 48hr\n",
      "2-parameter log normal: μ = 2.36345443261587, σ = 0.23477944850532012\n",
      "3-parameter log normal: μ = 2.36345443261587, σ = 0.23477944850532012, a = 1.3772026950981395\n",
      "Extreme Value Type I (Gumbel): α = 9.45755214588487, u = 259.46463031316\n",
      "Pearson Type III: λ = 108.00638950778057, β = 1.8557226609716466, ε = 64.49362487244608\n"
     ]
    }
   ],
   "source": [
    "# Two-parameter log-normal \n",
    "mu_2pln_tp_48hr = np.mean(np.log10(annual_tp_48hr_mx))\n",
    "std_2pln_tp_48hr = np.std(np.log10(annual_tp_48hr_mx), ddof=1)\n",
    "\n",
    "# Three-parameter log-normal \n",
    "mu_3pln_tp_48hr = np.mean(np.log10(annual_tp_48hr_mx))\n",
    "std_3pln_tp_48hr = np.std(np.log10(annual_tp_48hr_mx), ddof=1)\n",
    "CV2_48hr = np.sqrt(np.exp(std_3pln_tp_48hr**2) - 1)\n",
    "a_3pln_tp_48hr = mu_3pln_tp_48hr - std_3pln_tp_48hr / CV2_48hr\n",
    "\n",
    "# Extreme Value Type I (Gumbel) Distribution \n",
    "alpha_gumbel_tp_48hr = (np.sqrt(6) / np.pi) * np.sqrt(std_tp_48hr)\n",
    "u_gumbel_tp_48hr = mu_tp_48hr - (0.5772 * alpha_gumbel_tp_48hr)\n",
    "\n",
    "# Pearson Type III Distribution \n",
    "beta_pearson_tp_48hr = (2 / skew_tp_48hr)**2\n",
    "lambda_pearson_tp_48hr = std_tp_48hr / np.sqrt(beta_pearson_tp_48hr)\n",
    "epsilon_pearson_tp_48hr = mu_tp_48hr - std_tp_48hr * np.sqrt(beta_pearson_tp_48hr)\n",
    "\n",
    "print('Taipei 48hr')\n",
    "print(f\"2-parameter log normal: μ = {mu_2pln_tp_48hr}, σ = {std_2pln_tp_48hr}\")\n",
    "print(f\"3-parameter log normal: μ = {mu_3pln_tp_48hr}, σ = {std_3pln_tp_48hr}, a = {a_3pln_tp_48hr}\")\n",
    "print(f\"Extreme Value Type I (Gumbel): α = {alpha_gumbel_tp_48hr}, u = {u_gumbel_tp_48hr}\")\n",
    "print(f\"Pearson Type III: λ = {lambda_pearson_tp_48hr}, β = {beta_pearson_tp_48hr}, ε = {epsilon_pearson_tp_48hr}\")\n"
   ]
  },
  {
   "cell_type": "code",
   "execution_count": 33,
   "metadata": {},
   "outputs": [
    {
     "name": "stdout",
     "output_type": "stream",
     "text": [
      "    降雨(mm)  次數\n",
      "0   50-150   6\n",
      "1  150-250  13\n",
      "2  250-350  10\n",
      "3  350-450   1\n",
      "4  450-550   3\n",
      "5  550-650   0\n",
      "6  650-750   0\n",
      "7  750-850   1\n"
     ]
    }
   ],
   "source": [
    "#開始分組進行chi square test\n",
    "data = annual_tp_48hr_mx\n",
    "\n",
    "min_value = min(data)\n",
    "max_value = max(data)\n",
    "# 找到最接近最小值的10的倍數，作為第一個分組的起點\n",
    "start_value = int(np.floor(min_value / 10.0)) * 10\n",
    "group_counts = {}\n",
    "\n",
    "current_value = start_value\n",
    "while current_value <= max_value:\n",
    "    next_value = current_value + 100\n",
    "    group_label = f\"{current_value}-{next_value}\"\n",
    "    group_counts[group_label] = len([x for x in data if current_value <= x < next_value])\n",
    "    current_value = next_value\n",
    "\n",
    "df = pd.DataFrame(list(group_counts.items()), columns=[\"降雨(mm)\", \"次數\"])\n",
    "print(df)"
   ]
  }
 ],
 "metadata": {
  "kernelspec": {
   "display_name": "Python 3 (ipykernel)",
   "language": "python",
   "name": "python3"
  },
  "language_info": {
   "codemirror_mode": {
    "name": "ipython",
    "version": 3
   },
   "file_extension": ".py",
   "mimetype": "text/x-python",
   "name": "python",
   "nbconvert_exporter": "python",
   "pygments_lexer": "ipython3",
   "version": "3.9.12"
  }
 },
 "nbformat": 4,
 "nbformat_minor": 2
}
